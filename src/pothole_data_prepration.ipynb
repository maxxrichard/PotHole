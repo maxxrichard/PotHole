{
  "nbformat": 4,
  "nbformat_minor": 5,
  "metadata": {
    "kernelspec": {
      "display_name": "Python 3",
      "language": "python",
      "name": "python3"
    },
    "language_info": {
      "codemirror_mode": {
        "name": "ipython",
        "version": 3
      },
      "file_extension": ".py",
      "mimetype": "text/x-python",
      "name": "python",
      "nbconvert_exporter": "python",
      "pygments_lexer": "ipython3",
      "version": "3.8.3"
    },
    "colab": {
      "name": "ds_2021_pothole_data_prepration.ipynb",
      "provenance": [],
      "collapsed_sections": [
        "08720e3f",
        "3d7de00d",
        "8bec4c42",
        "110ca639",
        "f64ec2b5",
        "a33263aa",
        "2fa5f4a7"
      ],
      "toc_visible": true
    }
  },
  "cells": [
    {
      "cell_type": "markdown",
      "metadata": {
        "id": "08720e3f"
      },
      "source": [
        "\n",
        "# Data preparation"
      ],
      "id": "08720e3f"
    },
    {
      "cell_type": "markdown",
      "metadata": {
        "id": "c983ecd7"
      },
      "source": [
        "## DS1 Label transformation\n",
        "This part deals with the transformation of the labels into the YOLOv5 format."
      ],
      "id": "c983ecd7"
    },
    {
      "cell_type": "markdown",
      "metadata": {
        "id": "a5494aee"
      },
      "source": [
        "### Imports"
      ],
      "id": "a5494aee"
    },
    {
      "cell_type": "code",
      "metadata": {
        "id": "94cee4be"
      },
      "source": [
        "import os\n",
        "import random\n",
        "import shutil\n",
        "from shutil import copyfile\n",
        "\n",
        "import numpy as np\n",
        "from PIL import Image"
      ],
      "id": "94cee4be",
      "execution_count": null,
      "outputs": []
    },
    {
      "cell_type": "markdown",
      "metadata": {
        "id": "3d7de00d"
      },
      "source": [
        "### Read Test Data Labels"
      ],
      "id": "3d7de00d"
    },
    {
      "cell_type": "code",
      "metadata": {
        "id": "8692bab0"
      },
      "source": [
        "# Saves Lines in list\n",
        "\n",
        "input_labels_test = \"DS1\\simpleTestFullSizeAllPotholesSortedFullAnnotation.txt\"\n",
        "with open(input_labels_test) as file:\n",
        "    lines = []\n",
        "    for line in file:\n",
        "        lines.append(line.strip().replace(\"  \",\"\"))\n",
        "\n",
        "file.close()\n",
        "\n",
        "# Example [\"Test data\\G0011476.bmp 2 2176 1580 242 44 1726 1458 106 26 \"]\n",
        "#lines[0]"
      ],
      "id": "8692bab0",
      "execution_count": null,
      "outputs": []
    },
    {
      "cell_type": "markdown",
      "metadata": {
        "id": "8bec4c42"
      },
      "source": [
        "### Create New Labels for Test Data"
      ],
      "id": "8bec4c42"
    },
    {
      "cell_type": "code",
      "metadata": {
        "id": "45c2d377"
      },
      "source": [
        "# for Test data\n",
        "error_log_test = open(\"ErrorLogTest.txt\",\"w+\")\n",
        "imgLabelNameTest = []\n",
        "\n",
        "for line in lines:\n",
        "\n",
        " # Gain Information \n",
        "    line_list = line.split()\n",
        "    name = line_list[1].replace(\"data\\\\\",\" \").replace(\".bmp\", \"\").strip()\n",
        "    num_potholes = int(line_list[2])\n",
        "    \n",
        "    image_path = \"DS1\\TestData\\\\\" + name + \".JPG\"\n",
        "    try:\n",
        "        im = Image.open(image_path)\n",
        "        img_width, img_height = im.size\n",
        "    \n",
        "      # gain information for individual potholes\n",
        "        potholes = []\n",
        "        for n in range(0,num_potholes):\n",
        "        #x_center, y_center, width, height\n",
        "            potholes.append([(int(line_list[3+4*n]) + int(line_list[5+4*n])/2) / img_width,\n",
        "                             (int(line_list[4+4*n]) + int(line_list[6+4*n])/2) / img_height,\n",
        "                             int(line_list[4+4*n]) / img_width,\n",
        "                             int(line_list[5+4*n]) / img_height])\n",
        "    \n",
        "      #Write new file\n",
        "        path = \"DS1_new\\labels\\Test\"\n",
        "        new_file = open(path + \"\\\\\" + name+ \".txt\", \"w+\")\n",
        "        for n in range (0, num_potholes): \n",
        "            new_file.write(\"0 %f %f %f %f\\n\" %(potholes[n][0], potholes[n][1], potholes[n][2], potholes[n][3]))\n",
        "        new_file.close()\n",
        "        imgLabelNameTest.append(name)\n",
        "    except:\n",
        "        error_log_test.write(\"%s resulted in error\\n\" %name)\n",
        "error_log_test.close()"
      ],
      "id": "45c2d377",
      "execution_count": null,
      "outputs": []
    },
    {
      "cell_type": "markdown",
      "metadata": {
        "id": "110ca639"
      },
      "source": [
        "### Read Training Data Labels"
      ],
      "id": "110ca639"
    },
    {
      "cell_type": "code",
      "metadata": {
        "id": "59c585d3",
        "outputId": "943e2246-f489-4945-d596-0710cf417ebc"
      },
      "source": [
        "# Saves Lines in list\n",
        "\n",
        "input_labels_test = \"DS1\\simpleTrainFullPhotosSortedFullAnnotations.txt\"\n",
        "with open(input_labels_test) as file:\n",
        "    lines = []\n",
        "    for line in file:\n",
        "        lines.append(line.strip().replace(\"  \",\"\"))\n",
        "\n",
        "file.close()\n",
        "\n",
        "# Example: \"Train data\\Positive data\\G0010110.bmp 2 2002 1370 58 18 1896 1342 50 16\"\n",
        "lines[0]"
      ],
      "id": "59c585d3",
      "execution_count": null,
      "outputs": [
        {
          "output_type": "execute_result",
          "data": {
            "text/plain": [
              "'Train data\\\\Positive data\\\\G0010033.bmp 6 1990 1406 66 14 1464 1442 92 16 1108 1450 54 16 558 1434 102 16 338 1450 72 18 262 1450 58 22'"
            ]
          },
          "metadata": {
            "tags": []
          },
          "execution_count": 4
        }
      ]
    },
    {
      "cell_type": "markdown",
      "metadata": {
        "id": "f64ec2b5"
      },
      "source": [
        "### Create New Labels for Training Data\n",
        "(Note: only images with potholes are considered)"
      ],
      "id": "f64ec2b5"
    },
    {
      "cell_type": "code",
      "metadata": {
        "id": "e47c1038"
      },
      "source": [
        "# for Train data\n",
        "error_log_train = open(\"ErrorLogTrain.txt\",\"w+\")\n",
        "imgLabelNameTrain = []\n",
        "\n",
        "\n",
        "for line in lines:\n",
        "\n",
        " # Gain Information \n",
        "    line_list = line.split()\n",
        "    name = line_list[2].replace(\"data\\\\\",\" \").replace(\".bmp\", \"\").strip()\n",
        "    num_potholes = int(line_list[3])\n",
        "            \n",
        "    image_path = \"DS1\\TrainData\\PositiveData\\\\\" + name + \".JPG\"\n",
        "    try:\n",
        "        im = Image.open(image_path)\n",
        "        img_width, img_height = im.size\n",
        "    \n",
        "      # gain information for individual potholes and change format\n",
        "        potholes = []\n",
        "        for n in range(0,num_potholes):\n",
        "        #x_center, y_center, width, height\n",
        "            potholes.append([(int(line_list[4+4*n]) + int(line_list[6+4*n])/2) / img_width,\n",
        "                             (int(line_list[5+4*n]) + int(line_list[7+4*n])/2) / img_height,\n",
        "                             int(line_list[5+4*n]) / img_width,\n",
        "                             int(line_list[6+4*n]) / img_height])\n",
        "    \n",
        "      #Write new file\n",
        "        path = \"DS1_new\\labels\\Train\"\n",
        "        new_file = open(path + \"\\\\\" + name + \".txt\", \"w+\")\n",
        "        for n in range (0, num_potholes): \n",
        "            new_file.write(\"0 %f %f %f %f\\n\" %(potholes[n][0], potholes[n][1], potholes[n][2], potholes[n][3]))\n",
        "        new_file.close()\n",
        "        imgLabelNameTrain.append(name)\n",
        "\n",
        "    except:\n",
        "        error_log_train.write(\"%s resulted in error\\n\" %name)\n",
        "        \n",
        "error_log_train.close()"
      ],
      "id": "e47c1038",
      "execution_count": null,
      "outputs": []
    },
    {
      "cell_type": "markdown",
      "metadata": {
        "id": "a33263aa"
      },
      "source": [
        "### Copy the right pictures into new files"
      ],
      "id": "a33263aa"
    },
    {
      "cell_type": "code",
      "metadata": {
        "id": "c025c73e",
        "outputId": "4a1311a5-3fde-4b17-dbcc-5ac2e7e42e0a"
      },
      "source": [
        "# Commented to avoid long runtimes\n",
        "\"\"\"\n",
        "for name in imgLabelNameTest:\n",
        "    oldPath = \"DS1\\TestData\\\\\" + name +\".JPG\"\n",
        "    newPath = \"DS1_new\\images\\TestData\\\\\" + name + \".JPG\"\n",
        "    copyfile(oldPath, newPath)\n",
        "    \n",
        "for name in imgLabelNameTrain:\n",
        "    oldPath = \"DS1\\TrainData\\PositiveData\\\\\" + name +\".JPG\"\n",
        "    newPath = \"DS1_new\\images\\TrainData\\\\\" + name + \".JPG\"\n",
        "    copyfile(oldPath, newPath)\n",
        "\"\"\""
      ],
      "id": "c025c73e",
      "execution_count": null,
      "outputs": [
        {
          "output_type": "execute_result",
          "data": {
            "text/plain": [
              "'\\nfor name in imgLabelNameTest:\\n    oldPath = \"DS1\\\\TestData\\\\\" + name +\".JPG\"\\n    newPath = \"DS1_new\\\\images\\\\TestData\\\\\" + name + \".JPG\"\\n    copyfile(oldPath, newPath)\\n    \\nfor name in imgLabelNameTrain:\\n    oldPath = \"DS1\\\\TrainData\\\\PositiveData\\\\\" + name +\".JPG\"\\n    newPath = \"DS1_new\\\\images\\\\TrainData\\\\\" + name + \".JPG\"\\n    copyfile(oldPath, newPath)\\n'"
            ]
          },
          "metadata": {
            "tags": []
          },
          "execution_count": 6
        }
      ]
    },
    {
      "cell_type": "code",
      "metadata": {
        "id": "582a6ce0",
        "outputId": "9ee943f0-a7df-48cb-f5cc-6bd1009be744"
      },
      "source": [
        "convertedLabels = len(imgLabelNameTest)+len(imgLabelNameTrain)\n",
        "print(\"Total images&labels converted to YOLO format: %d\" %convertedLabels)"
      ],
      "id": "582a6ce0",
      "execution_count": null,
      "outputs": [
        {
          "output_type": "stream",
          "text": [
            "Total images&labels converted to YOLO format: 2030\n"
          ],
          "name": "stdout"
        }
      ]
    },
    {
      "cell_type": "markdown",
      "metadata": {
        "id": "2fa5f4a7"
      },
      "source": [
        "## DS2 Removal of Dublicates"
      ],
      "id": "2fa5f4a7"
    },
    {
      "cell_type": "code",
      "metadata": {
        "id": "5e03db73"
      },
      "source": [
        "# create a list of images without dublicates (training data)\n",
        "\n",
        "path = \"DS2\\\\training\\\\images\"\n",
        "files = os.listdir(path)\n",
        "\n",
        "pictureNumber=[]\n",
        "for f in files:\n",
        "    pictureNumber.append(int(f.replace(\"_png\",\"\").replace(\"potholes\",\"\").split(\".\")[0]))\n",
        "\n",
        "imagesWithoutDublicates=[]\n",
        "imagesWithoutDublicates.append(files[0])  # necessary because switches \n",
        "for i in range(1,len(pictureNumber)):\n",
        "    if  pictureNumber[i] != pictureNumber[i-1]:\n",
        "        imagesWithoutDublicates.append(files[i])"
      ],
      "id": "5e03db73",
      "execution_count": null,
      "outputs": []
    },
    {
      "cell_type": "code",
      "metadata": {
        "id": "7131b782",
        "outputId": "02d34f7f-faaa-485d-e96a-c281307e7e3d"
      },
      "source": [
        "# Copy all chosen images into new folder\n",
        "\"\"\"\n",
        "for name in imagesWithoutDublicates:\n",
        "    oldPath = \"DS2\\training\\images\\\\\"+ name\n",
        "    newPath = \"DS2_new\\training\\images\\\\\"+ name\n",
        "    copyfile(oldPath, newPath)\n",
        "\"\"\""
      ],
      "id": "7131b782",
      "execution_count": null,
      "outputs": [
        {
          "output_type": "execute_result",
          "data": {
            "text/plain": [
              "'\\nfor name in imagesWithoutDublicates:\\n    oldPath = \"DS2\\training\\\\images\\\\\"+ name\\n    newPath = \"DS2_new\\training\\\\images\\\\\"+ name\\n    copyfile(oldPath, newPath)\\n'"
            ]
          },
          "metadata": {
            "tags": []
          },
          "execution_count": 9
        }
      ]
    },
    {
      "cell_type": "code",
      "metadata": {
        "id": "93d81fe7",
        "outputId": "527fb2d6-dcd0-448d-c2ff-7376cdcb639b"
      },
      "source": [
        "# Copy the labels for the chosen images\n",
        "\"\"\"\n",
        "for name in imagesWithoutDublicates:\n",
        "    oldPath = \"DS2\\training\\labels\\\\\"+ name.replace(\".jpg\", \".txt\")\n",
        "    newPath = \"DS2_new\\training\\labels\\\\\"+ name.replace(\".jpg\", \".txt\")\n",
        "    copyfile(oldPath, newPath)\n",
        "\"\"\""
      ],
      "id": "93d81fe7",
      "execution_count": null,
      "outputs": [
        {
          "output_type": "execute_result",
          "data": {
            "text/plain": [
              "'\\nfor name in imagesWithoutDublicates:\\n    oldPath = \"DS2\\training\\\\labels\\\\\"+ name.replace(\".jpg\", \".txt\")\\n    newPath = \"DS2_new\\training\\\\labels\\\\\"+ name.replace(\".jpg\", \".txt\")\\n    copyfile(oldPath, newPath)\\n'"
            ]
          },
          "metadata": {
            "tags": []
          },
          "execution_count": 10
        }
      ]
    },
    {
      "cell_type": "code",
      "metadata": {
        "id": "152c3135",
        "outputId": "e087c307-ecc2-4b29-8007-5713c26c0629"
      },
      "source": [
        "# Copy test data (no dublicates)\n",
        "\"\"\"\n",
        "files = os.listdir(\"DS2\\test\\images\")\n",
        "    for file in files:\n",
        "        oldPath =  path + \"\\\\\" + file\n",
        "        newPath = \"DS2_new\\test\\images\\\\\" + file\n",
        "        copyfile(oldPath, newPath)\n",
        "        \n",
        "files = os.listdir(\"DS2\\test\\labels\")\n",
        "    for file in files:\n",
        "        oldPath =  path + \"\\\\\" + file\n",
        "        newPath = \"DS2_new\\test\\labels\\\\\" + file\n",
        "        copyfile(oldPath, newPath)\n",
        "\"\"\""
      ],
      "id": "152c3135",
      "execution_count": null,
      "outputs": [
        {
          "output_type": "execute_result",
          "data": {
            "text/plain": [
              "'\\nfiles = os.listdir(\"DS2\\test\\\\images\")\\n    for file in files:\\n        oldPath =  path + \"\\\\\" + file\\n        newPath = \"DS2_new\\test\\\\images\\\\\" + file\\n        copyfile(oldPath, newPath)\\n        \\nfiles = os.listdir(\"DS2\\test\\\\labels\")\\n    for file in files:\\n        oldPath =  path + \"\\\\\" + file\\n        newPath = \"DS2_new\\test\\\\labels\\\\\" + file\\n        copyfile(oldPath, newPath)\\n'"
            ]
          },
          "metadata": {
            "tags": []
          },
          "execution_count": 11
        }
      ]
    },
    {
      "cell_type": "markdown",
      "metadata": {
        "id": "cbaee7b1"
      },
      "source": [
        "## Merge all Data together"
      ],
      "id": "cbaee7b1"
    },
    {
      "cell_type": "code",
      "metadata": {
        "id": "0b422582",
        "outputId": "cbdebc19-0a78-45ab-e681-92287b0cda53"
      },
      "source": [
        "# Create final dataset (without train-test split)\n",
        "\n",
        "#  Get images:\n",
        "path1 = \"DS1_new\\images\\TestData\"\n",
        "path2 = \"DS1_new\\images\\TrainData\"\n",
        "path3 = \"DS2_new\\training\\images\"\n",
        "path4 = \"DS2_new\\test\\images\"\n",
        "\n",
        "#get labels\n",
        "path5 = \"DS1_new\\labels\\Test\"\n",
        "path6 = \"DS1_new\\labels\\Train\"\n",
        "path7 = \"DS2_new\\training\\labels\"\n",
        "path8 = \"DS2_new\\test\\labels\"\n",
        "\n",
        "imagepath = [path1, path2, path3, path4]\n",
        "labelpath = [path5, path6, path7, path8]\n",
        "\n",
        "\"\"\"\n",
        "for path in imagepath:\n",
        "    files = os.listdir(path)\n",
        "    for file in files:\n",
        "        oldPath =  path + \"\\\\\" + file\n",
        "        newPath = \"Dataset_final\\images\\\\\" + file\n",
        "        copyfile(oldPath, newPath)\n",
        "      \n",
        "for path in labelpath:\n",
        "    files = os.listdir(path)\n",
        "    for file in files:\n",
        "        oldPath =  path + \"\\\\\" + file\n",
        "        newPath = \"Dataset_final\\labels\\\\\" + file\n",
        "        copyfile(oldPath, newPath)\n",
        "\"\"\""
      ],
      "id": "0b422582",
      "execution_count": null,
      "outputs": [
        {
          "output_type": "execute_result",
          "data": {
            "text/plain": [
              "'\\nfor path in imagepath:\\n    files = os.listdir(path)\\n    for file in files:\\n        oldPath =  path + \"\\\\\" + file\\n        newPath = \"Dataset_final\\\\images\\\\\" + file\\n        copyfile(oldPath, newPath)\\n      \\nfor path in labelpath:\\n    files = os.listdir(path)\\n    for file in files:\\n        oldPath =  path + \"\\\\\" + file\\n        newPath = \"Dataset_final\\\\labels\\\\\" + file\\n        copyfile(oldPath, newPath)\\n'"
            ]
          },
          "metadata": {
            "tags": []
          },
          "execution_count": 12
        }
      ]
    },
    {
      "cell_type": "markdown",
      "metadata": {
        "id": "0gLLeqBbXxFM"
      },
      "source": [
        "## Split Train, Validation and Test Folders"
      ],
      "id": "0gLLeqBbXxFM"
    },
    {
      "cell_type": "code",
      "metadata": {
        "id": "xPVK9tM-YHIr"
      },
      "source": [
        "# set root folder\n",
        "root_dir = '.'\n",
        "# set val and test ratio, this means 80%  training\n",
        "val_ratio = 0.15\n",
        "test_ratio = 0.05"
      ],
      "id": "xPVK9tM-YHIr",
      "execution_count": null,
      "outputs": []
    },
    {
      "cell_type": "code",
      "metadata": {
        "id": "MNPeJ4ubYic3"
      },
      "source": [
        "# generate respective folders \n",
        "\n",
        "os.makedirs(root_dir +'/train/images')\n",
        "os.makedirs(root_dir +'/val/images')\n",
        "os.makedirs(root_dir +'/test/images')\n",
        "\n",
        "os.makedirs(root_dir +'/train/labels')\n",
        "os.makedirs(root_dir +'/val/labels')\n",
        "os.makedirs(root_dir +'/test/labels')"
      ],
      "id": "MNPeJ4ubYic3",
      "execution_count": null,
      "outputs": []
    },
    {
      "cell_type": "code",
      "metadata": {
        "id": "8X3B1NGPYpgU"
      },
      "source": [
        "# Creating and partitions of the data after shuffeling\n",
        "src = root_dir + \"/images\" # Folder to copy images from\n",
        "labels = root_dir + \"/labels\" # Folder to copy images from\n",
        "allFileNames = os.listdir(src)\n",
        "allLabelsFileNames = os.listdir(labels)\n",
        "\n",
        "np.random.shuffle(allFileNames)\n",
        "train_FileNames, val_FileNames, test_FileNames = np.split(np.array(allFileNames),\n",
        "                                                            [int(len(allFileNames)* (1 - val_ratio + test_ratio)), \n",
        "                                                            int(len(allFileNames)* (1 - test_ratio))])"
      ],
      "id": "8X3B1NGPYpgU",
      "execution_count": null,
      "outputs": []
    },
    {
      "cell_type": "code",
      "metadata": {
        "id": "HxNaQ2T-YxD2"
      },
      "source": [
        "# display \n",
        "print('Total images: ', len(allFileNames))\n",
        "print('Training: ', len(train_FileNames.tolist()))\n",
        "print('Validation: ', len(val_FileNames.tolist()))\n",
        "print('Testing: ', len(test_FileNames.tolist()))\n",
        "print('Total Lables: ', len(allLabelsFileNames))"
      ],
      "id": "HxNaQ2T-YxD2",
      "execution_count": null,
      "outputs": []
    },
    {
      "cell_type": "code",
      "metadata": {
        "id": "0ekdj5GZY5bO"
      },
      "source": [
        "# Copy-pasting images\n",
        "print(\"Training Data Generation\")\n",
        "for name in train_FileNames.tolist():\n",
        "    image_path = src+'/'+ name\n",
        "    label_path = labels+'/'+ name[:-3] + \"txt\" \n",
        "    \n",
        "    if os.path.isfile(image_path) and os.path.isfile(label_path):\n",
        "        shutil.copy(image_path, root_dir +'/train/images')\n",
        "        shutil.copy(label_path, root_dir +'/train/labels' )\n",
        "\n",
        "    else:\n",
        "        print(\"skipping ---\", name)"
      ],
      "id": "0ekdj5GZY5bO",
      "execution_count": null,
      "outputs": []
    },
    {
      "cell_type": "code",
      "metadata": {
        "id": "34guuoPBY6jd"
      },
      "source": [
        "print(\"Validation Data Generation\")\n",
        "for name in val_FileNames.tolist():\n",
        "    image_path = src+'/'+ name\n",
        "    label_path = labels+'/'+ name[:-3] + \"txt\" \n",
        "    \n",
        "    if os.path.isfile(image_path) and os.path.isfile(label_path):\n",
        "        shutil.copy(image_path, root_dir +'/val/images')\n",
        "        shutil.copy(label_path, root_dir +'/val/labels' )\n",
        "\n",
        "    else:\n",
        "        print(\"skipping ---\", name)"
      ],
      "id": "34guuoPBY6jd",
      "execution_count": null,
      "outputs": []
    },
    {
      "cell_type": "code",
      "metadata": {
        "id": "ugdQp0tKY_Us"
      },
      "source": [
        "print(\"Test Data Generation\")\n",
        "for name in test_FileNames.tolist():\n",
        "    image_path = src+'/'+ name\n",
        "    label_path = labels+'/'+ name[:-3] + \"txt\" \n",
        "    \n",
        "    if os.path.isfile(image_path) and os.path.isfile(label_path):\n",
        "        shutil.copy(image_path, root_dir +'/test/images')\n",
        "        shutil.copy(label_path, root_dir +'/test/labels' )\n",
        "\n",
        "    else:\n",
        "        print(\"skipping ---\", name)"
      ],
      "id": "ugdQp0tKY_Us",
      "execution_count": null,
      "outputs": []
    },
    {
      "cell_type": "code",
      "metadata": {
        "id": "gR83wvcNZt6o"
      },
      "source": [
        "\"\"\" \n",
        "Log: \n",
        "\n",
        "Total images:  2688\n",
        "Training:  2419\n",
        "Validation:  134\n",
        "Testing:  135\n",
        "Total Lables:  2638\n",
        "Training Data Generation\n",
        "skipping --- G0064865.JPG\n",
        "skipping --- potholes215_png.rf.11648a404fb9add73a0e8022d2b9559b.jpg\n",
        "skipping --- G0094405.JPG\n",
        "skipping --- G0041017.JPG\n",
        "skipping --- G0145175.JPG\n",
        "skipping --- G0011880.JPG\n",
        "skipping --- G0064638.JPG\n",
        "skipping --- potholes23_png.rf.418ea12bcc6904b3191873bf121c32ef.jpg\n",
        "skipping --- G0090207.JPG\n",
        "skipping --- G0066574.JPG\n",
        "skipping --- G0028159.JPG\n",
        "skipping --- G0052788.JPG\n",
        "skipping --- G0134510.JPG\n",
        "skipping --- G0051947.JPG\n",
        "skipping --- G0066950.JPG\n",
        "skipping --- G0267325.JPG\n",
        "skipping --- potholes341_png.rf.2cfce3be37b54c6dcaba768ec80ebea7.jpg\n",
        "skipping --- G0090202.JPG\n",
        "skipping --- G0010765.JPG\n",
        "skipping --- G0077749.JPG\n",
        "skipping --- G0028261.JPG\n",
        "skipping --- G0052767.JPG\n",
        "skipping --- G0031377.JPG\n",
        "skipping --- G0052998.JPG\n",
        "skipping --- G0065278.JPG\n",
        "skipping --- G0064999.JPG\n",
        "skipping --- G0029081.JPG\n",
        "skipping --- G0043320.JPG\n",
        "skipping --- G0088599.JPG\n",
        "skipping --- G0090433.JPG\n",
        "skipping --- G0066263.JPG\n",
        "skipping --- G0024296.JPG\n",
        "skipping --- G0064442.JPG\n",
        "skipping --- G0065283.JPG\n",
        "skipping --- G0064147.JPG\n",
        "skipping --- potholes324_png.rf.4ef8eaa79b5ef11c295d7784aecfa173.jpg\n",
        "skipping --- G0040979.JPG\n",
        "skipping --- G0066592.JPG\n",
        "skipping --- potholes487_png.rf.a11b763bb961f503ed530abc9896fd72(1).jpg\n",
        "skipping --- G0063501.JPG\n",
        "skipping --- potholes117_png.rf.00646a96915d539964beb023b376d75e.jpg\n",
        "skipping --- potholes195_png.rf.351094a628a41b2ceeb3c98c62d60079.jpg\n",
        "skipping --- G0043317.JPG\n",
        "skipping --- G0053102.JPG\n",
        "skipping --- potholes168_png.rf.36c4527e94ed35643354f3a73c675619.jpg\n",
        "skipping --- G0043164.JPG\n",
        "skipping --- G0030659.JPG\n",
        "skipping --- potholes240_png.rf.313b6bf417d763ac30c78007edf7ea71.jpg\n",
        "Validation Data Generation\n",
        "skipping --- G0031365.JPG\n",
        "Test Data Generation\n",
        "\n",
        "\"\"\""
      ],
      "id": "gR83wvcNZt6o",
      "execution_count": null,
      "outputs": []
    },
    {
      "cell_type": "markdown",
      "metadata": {
        "id": "2Jqz_CrHaCKh"
      },
      "source": [
        "A part from this, dataset from https://public.roboflow.ai/object-detection/pothole is also added manulay. Final dataset consist of 2836 training images, 266 for validation and 201 for test."
      ],
      "id": "2Jqz_CrHaCKh"
    },
    {
      "cell_type": "markdown",
      "metadata": {
        "id": "vVk9z46mcVxM"
      },
      "source": [
        "**Ready to use data link: https://drive.google.com/file/d/1-lScdLoaW_yzuvQ9nph7raL76wuHz5v_/view?usp=sharing**"
      ],
      "id": "vVk9z46mcVxM"
    },
    {
      "cell_type": "code",
      "metadata": {
        "id": "I9quPMgueSIl"
      },
      "source": [
        ""
      ],
      "id": "I9quPMgueSIl",
      "execution_count": null,
      "outputs": []
    }
  ]
}